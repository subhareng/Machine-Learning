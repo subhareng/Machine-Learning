{
 "cells": [
  {
   "cell_type": "markdown",
   "metadata": {},
   "source": [
    "## PROBLEM 1A ###################################"
   ]
  },
  {
   "cell_type": "code",
   "execution_count": null,
   "metadata": {},
   "outputs": [
    {
     "data": {
      "text/plain": [
       "rob21 (generic function with 1 method)"
      ]
     },
     "execution_count": 1,
     "metadata": {},
     "output_type": "execute_result"
    }
   ],
   "source": [
    "using JuMP, Gurobi\n",
    "\n",
    "using DataFrames\n",
    "using DataFramesMeta\n",
    "\n",
    "function rob21(X,Y,rho)\n",
    "\n",
    "    model21 = Model(solver=GurobiSolver(OutputFlag=0))\n",
    "    n,m = size(X)\n",
    "    @variable(model21,b[1:m])\n",
    "    @variable(model21,t)\n",
    "    @variable(model21,theta)\n",
    "    @variable(model21,z[1:m])\n",
    "    @objective(model21, Min, (t + rho*theta))\n",
    "    @constraint(model21, norm(Y-X*b)<=t)\n",
    "    @constraint(model21, sum(z[j] for j=1:m)<=theta)\n",
    "   \n",
    "    for j=1:m\n",
    "        @constraint(model21, b[j] <= z[j])\n",
    "        @constraint(model21, b[j] >= -z[j])\n",
    "    end \n",
    "    \n",
    "    solve(model21)\n",
    "    \n",
    "    getvalue(b)\n",
    "end\n",
    "    \n",
    "\n",
    "\n",
    "\n",
    "\n"
   ]
  },
  {
   "cell_type": "code",
   "execution_count": null,
   "metadata": {},
   "outputs": [
    {
     "data": {
      "text/plain": [
       "rob22 (generic function with 1 method)"
      ]
     },
     "execution_count": 2,
     "metadata": {},
     "output_type": "execute_result"
    }
   ],
   "source": [
    "using JuMP, Gurobi\n",
    "    using DataFrames\n",
    "    using DataFramesMeta\n",
    "\n",
    "function rob22(X,Y,rho)\n",
    "    \n",
    "    model22 = Model(solver=GurobiSolver(OutputFlag=0))\n",
    "    n,m = size(X)\n",
    "    @variable(model22,b[1:m])\n",
    "    @variable(model22,t)\n",
    "    @variable(model22,theta)\n",
    "    @objective(model22, Min, t + rho*theta)\n",
    "    @constraint(model22, norm(Y - X*b) <= t)\n",
    "    @constraint(model22, norm(b) <= theta)\n",
    "   \n",
    "    \n",
    "    solve(model22)\n",
    "    getvalue(b)\n",
    "\n",
    "end"
   ]
  },
  {
   "cell_type": "markdown",
   "metadata": {},
   "source": [
    "# PROBLEM 1B ##################################"
   ]
  },
  {
   "cell_type": "code",
   "execution_count": null,
   "metadata": {},
   "outputs": [
    {
     "name": "stdout",
     "output_type": "stream",
     "text": [
      "Academic license - for non-commercial use only\r\n"
     ]
    },
    {
     "data": {
      "text/plain": [
       "13-element Array{Float64,1}:\n",
       " -0.0904111 \n",
       "  0.049515  \n",
       " -4.85373e-6\n",
       "  1.08778   \n",
       " -2.52278e-7\n",
       "  5.655     \n",
       " -0.00375442\n",
       " -0.869761  \n",
       "  0.175856  \n",
       " -0.0104683 \n",
       " -0.376258  \n",
       "  0.0150924 \n",
       " -0.447889  "
      ]
     },
     "execution_count": 3,
     "metadata": {},
     "output_type": "execute_result"
    }
   ],
   "source": [
    "\n",
    "using JuMP, Gurobi\n",
    "\n",
    "using DataFrames\n",
    "using DataFramesMeta\n",
    "myData = readtable(\"C:/Users/subha/Desktop/Housing.csv\",header=false)\n",
    "\n",
    "Y = myData[end]\n",
    "Y = convert(Array, Y)\n",
    "X = Matrix(myData[1:end-1])\n",
    "rho = .5\n",
    "\n",
    "rob21(X,Y,rho)\n",
    "\n",
    "\n",
    "\n"
   ]
  },
  {
   "cell_type": "code",
   "execution_count": null,
   "metadata": {},
   "outputs": [
    {
     "name": "stdout",
     "output_type": "stream",
     "text": [
      "Academic license - for non-commercial use only\r\n",
      "Academic license - for non-commercial use only\r\n"
     ]
    },
    {
     "data": {
      "text/plain": [
       "13-element Array{Float64,1}:\n",
       " -0.0988091  \n",
       "  0.0466247  \n",
       " -0.000647395\n",
       "  0.328779   \n",
       " -1.99225e-9 \n",
       "  5.76715    \n",
       " -0.00663176 \n",
       " -0.830402   \n",
       "  0.212765   \n",
       " -0.0117071  \n",
       " -0.434456   \n",
       "  0.0161207  \n",
       " -0.40873    "
      ]
     },
     "execution_count": 4,
     "metadata": {},
     "output_type": "execute_result"
    }
   ],
   "source": [
    "srand(1)\n",
    "Y = myData[end]\n",
    "X = myData[1:end-1]\n",
    "using MLDataUtils\n",
    "(train_X, train_Y), (test_X, test_Y) = splitobs(shuffleobs((X, Y)), at=0.7)\n",
    "\n",
    "train_X = Matrix(train_X)\n",
    "test_X = Matrix(test_X)\n",
    "β22 = rob22(train_X, train_Y,.5)\n",
    "β21 = rob21(train_X, train_Y,.5)\n"
   ]
  },
  {
   "cell_type": "code",
   "execution_count": null,
   "metadata": {},
   "outputs": [
    {
     "data": {
      "text/plain": [
       "evaluate (generic function with 1 method)"
      ]
     },
     "execution_count": 5,
     "metadata": {},
     "output_type": "execute_result"
    }
   ],
   "source": [
    "function evaluate(X, y, β)\n",
    "    norm(y - X * β) / length(y)\n",
    "end"
   ]
  },
  {
   "cell_type": "code",
   "execution_count": null,
   "metadata": {},
   "outputs": [
    {
     "data": {
      "text/plain": [
       "checker (generic function with 1 method)"
      ]
     },
     "execution_count": 6,
     "metadata": {},
     "output_type": "execute_result"
    }
   ],
   "source": [
    "function checker(X,y,B)\n",
    "    norm(y - X * B)\n",
    "end"
   ]
  },
  {
   "cell_type": "code",
   "execution_count": null,
   "metadata": {
    "scrolled": true
   },
   "outputs": [
    {
     "name": "stdout",
     "output_type": "stream",
     "text": [
      "Academic license - for non-commercial use only\r\n",
      "Academic license - for non-commercial use only\r\n"
     ]
    },
    {
     "data": {
      "text/plain": [
       "0.41971582752978476"
      ]
     },
     "execution_count": 7,
     "metadata": {},
     "output_type": "execute_result"
    }
   ],
   "source": [
    "srand(1)\n",
    "Y = myData[end]\n",
    "X = myData[1:end-1]\n",
    "using MLDataUtils\n",
    "#split to make training set separate from testing set \n",
    "(train_X, train_Y), (test_X, test_Y) = splitobs(shuffleobs((X, Y)), at=0.7)\n",
    "#\n",
    "train_X = Matrix(train_X)\n",
    "test_X = Matrix(test_X)\n",
    "β22 = rob22(train_X, train_Y,.5)\n",
    "β21 = rob21(train_X, train_Y,.5)\n",
    "\n",
    "train_error = evaluate(train_X, train_Y, β22)\n",
    "test_error = evaluate(test_X, test_Y, β22)\n"
   ]
  },
  {
   "cell_type": "code",
   "execution_count": null,
   "metadata": {},
   "outputs": [
    {
     "name": "stdout",
     "output_type": "stream",
     "text": [
      "Academic license - for non-commercial use only\n",
      "Academic license - for non-commercial use only\n",
      "Academic license - for non-commercial use only\n",
      "Academic license - for non-commercial use only\n",
      "Academic license - for non-commercial use only\n",
      "Academic license - for non-commercial use only\n",
      "Academic license - for non-commercial use only\n",
      "Academic license - for non-commercial use only\n",
      "Academic license - for non-commercial use only\n",
      "Academic license - for non-commercial use only\n",
      "Academic license - for non-commercial use only\n",
      "Academic license - for non-commercial use only\n",
      "Academic license - for non-commercial use only\n",
      "Academic license - for non-commercial use only\n",
      "Academic license - for non-commercial use only\n",
      "Academic license - for non-commercial use only\n",
      "Academic license - for non-commercial use only\n",
      "Academic license - for non-commercial use only\n",
      "Academic license - for non-commercial use only\n",
      "Academic license - for non-commercial use only\n",
      "Academic license - for non-commercial use only\n",
      "Academic license - for non-commercial use only\n",
      "Academic license - for non-commercial use only\n",
      "Academic license - for non-commercial use only\n",
      "Academic license - for non-commercial use only\n",
      "Academic license - for non-commercial use only\n",
      "Academic license - for non-commercial use only\n",
      "Academic license - for non-commercial use only\n",
      "Academic license - for non-commercial use only\n",
      "Academic license - for non-commercial use only\n",
      "Academic license - for non-commercial use only\n",
      "Academic license - for non-commercial use only\n",
      "Academic license - for non-commercial use only\n",
      "Academic license - for non-commercial use only\n",
      "Academic license - for non-commercial use only\n",
      "Academic license - for non-commercial use only\n",
      "Academic license - for non-commercial use only\n",
      "Academic license - for non-commercial use only\n",
      "Academic license - for non-commercial use only\n",
      "Academic license - for non-commercial use only\n",
      "Academic license - for non-commercial use only\n",
      "Academic license - for non-commercial use only\n",
      "Academic license - for non-commercial use only\n",
      "BEST RHO FOR ROB21 METHOD = 0.0001\n",
      " and the error with rho21 on the out of sample test data is 63.94049009762198\n",
      "BEST RHO FOR ROB22 METHOD = 3.5001\n",
      " and the error with rho21 on the out of sample test data is 64.87609984272429\n",
      "RHO IS 0 for OLS. The error when rho = 0 is 63.940589136565464\n",
      "[-0.106605, 0.0456997, 7.77874e-5, 2.291, -5.1812, 6.14277, -0.00837597, -0.970645, 0.205986, -0.00980046, -0.440877, 0.01603, -0.370246]\n",
      "[-0.0979999, 0.0629321, -0.0184809, 0.732017, 0.110036, 4.66417, 0.017385, -0.695525, 0.193858, -0.0100346, -0.209821, 0.0188955, -0.488997]\n",
      "[-0.106607, 0.0456943, 0.000187442, 2.29242, -5.20246, 6.14354, -0.00835693, -0.970786, 0.205951, -0.00979494, -0.440851, 0.0160301, -0.370134]\n"
     ]
    }
   ],
   "source": [
    "\n",
    "#VALIDATION STEP TO GET THE RHO USED TO CHECK THE ERRORS ACROSS MODELS\n",
    "# Split the training set into training/validation (60%/40%)\n",
    "\n",
    "(tr_X, tr_y), (vl_X, vl_y) = splitobs((DataFrame(train_X), train_Y), at=0.6)\n",
    "\n",
    "vl_X = Matrix{Float64}(vl_X)\n",
    "########### RHO22 VALIDATION TESTING ##############################\n",
    "best_error22 = Inf\n",
    "best_rho22 = Inf\n",
    "\n",
    "for rho in collect(.0001:.5:10) \n",
    "#upon initial inspection, noted that the rhos for 21 and 22 \n",
    "#both on the order of magnitude of 10 X-4, so began refining \n",
    "#search for rho to values between 0 and 10 \n",
    "b = rob22(Matrix(tr_X), tr_y, rho)\n",
    "error = evaluate(vl_X, vl_y, b)\n",
    "    if error < best_error22\n",
    "        best_error22 = error\n",
    "        best_rho22 = rho\n",
    "    end\n",
    "end\n",
    "best_error22, best_rho22\n",
    "\n",
    "########################## RHO21 VALIDATION TESTING########################\n",
    "#upon initial inspection, noted that the rhos for 21 and 22\n",
    "#both on the order of magnitude of 10 X-4, so began \n",
    "#refining search for rho to values between 0 and 10\n",
    "\n",
    "best_error21 = Inf\n",
    "best_rho21 = Inf\n",
    "\n",
    "for rho in collect(.0001:.5:10)\n",
    "b = rob21(Matrix(tr_X), tr_y, rho)\n",
    "error = evaluate(vl_X, vl_y, b)\n",
    "    if error < best_error21\n",
    "        best_error21 = error\n",
    "        best_rho21 = rho\n",
    "    end\n",
    "end\n",
    "best_error21, best_rho21\n",
    "##################################### COMPARE THE ERRORS BETWEEN THE 3 METHODS ##################################\n",
    "beta21 = rob21(train_X, train_Y,best_rho21)\n",
    "beta22 = rob22(train_X,train_Y,best_rho22)\n",
    "OLSbeta= rob22(train_X,train_Y,0)\n",
    "\n",
    "error21 = checker(test_X,test_Y,beta21)\n",
    "error22 = checker(test_X,test_Y,beta22)\n",
    "errorOLS = checker(test_X,test_Y,OLSbeta)\n",
    "\n",
    "\n",
    "\n",
    "\n",
    "println(\"BEST RHO FOR ROB21 METHOD = \", best_rho21)\n",
    "println(\" and the error with rho21 on the out of sample test data is \", error21)\n",
    "println(\"BEST RHO FOR ROB22 METHOD = \", best_rho22)\n",
    "println(\" and the error with rho21 on the out of sample test data is \", error22)\n",
    "println(\"RHO IS 0 for OLS. The error when rho = 0 is \", errorOLS)\n",
    "println(beta21)\n",
    "println(beta22)\n",
    "println(OLSbeta)\n",
    "\n",
    "\n",
    "   "
   ]
  },
  {
   "cell_type": "markdown",
   "metadata": {
    "collapsed": true
   },
   "source": [
    "# PROBLEM 2 - SPARSE REGRESSION #########################"
   ]
  },
  {
   "cell_type": "code",
   "execution_count": null,
   "metadata": {},
   "outputs": [
    {
     "data": {
      "text/plain": [
       "200×1 Array{Int64,2}:\n",
       " -1\n",
       " -1\n",
       "  1\n",
       "  1\n",
       "  1\n",
       " -1\n",
       " -1\n",
       "  1\n",
       " -1\n",
       "  1\n",
       " -1\n",
       " -1\n",
       " -1\n",
       "  ⋮\n",
       "  0\n",
       "  0\n",
       "  0\n",
       "  0\n",
       "  0\n",
       "  0\n",
       "  0\n",
       "  0\n",
       "  0\n",
       "  0\n",
       "  0\n",
       "  0"
      ]
     },
     "execution_count": 9,
     "metadata": {},
     "output_type": "execute_result"
    }
   ],
   "source": [
    "using JuMP, Gurobi\n",
    "\n",
    "using DataFrames\n",
    "using DataFramesMeta\n",
    "\n",
    "mysparseDataY = readtable(\"C:/Users/subha/Desktop/sparseY.csv\",header=false)\n",
    "mysparseDataX = readtable(\"C:/Users/subha/Desktop/sparseX.csv\",header=false)\n",
    "TrueBData = readtable(\"C:/Users/subha/Desktop/sparseB.csv\",header=false)\n",
    "\n",
    "TrueBData=Matrix(TrueBData)\n"
   ]
  },
  {
   "cell_type": "markdown",
   "metadata": {},
   "source": [
    "## PROBLEM 2A"
   ]
  },
  {
   "cell_type": "code",
   "execution_count": null,
   "metadata": {},
   "outputs": [
    {
     "data": {
      "text/plain": [
       "sparseReg (generic function with 1 method)"
      ]
     },
     "execution_count": 10,
     "metadata": {},
     "output_type": "execute_result"
    }
   ],
   "source": [
    "function sparseReg(X,Y,k,M)\n",
    "\n",
    "    modelsp = Model(solver=GurobiSolver(OutputFlag=0))\n",
    "    m,n = size(X)\n",
    "    @variable(modelsp,b[1:n])\n",
    "    @variable(modelsp,z[1:n],Bin)\n",
    "    @variable(modelsp,t)\n",
    "    @objective(modelsp,Min,t)\n",
    "    \n",
    "    @constraint(modelsp,norm(Y-X*b)<=t)\n",
    "    \n",
    "    @constraint(modelsp, sum(z[j] for j=1:n)<=k)\n",
    "\n",
    "   \n",
    "    for j=1:n\n",
    "        @constraint(modelsp, b[j] <= M * z[j])\n",
    "        @constraint(modelsp, b[j] >= - M * z[j])\n",
    "    end \n",
    "    \n",
    "    solve(modelsp)\n",
    "    print(getvalue(t))\n",
    "    getvalue(b)\n",
    "end\n"
   ]
  },
  {
   "cell_type": "code",
   "execution_count": null,
   "metadata": {},
   "outputs": [
    {
     "name": "stdout",
     "output_type": "stream",
     "text": [
      "Academic license - for non-commercial use only\n",
      "7.11041300374283"
     ]
    },
    {
     "data": {
      "text/plain": [
       "200-element Array{Float64,1}:\n",
       " -1.0     \n",
       " -0.998465\n",
       "  0.952277\n",
       "  1.0     \n",
       "  0.987519\n",
       " -0.987328\n",
       " -1.0     \n",
       "  1.0     \n",
       " -1.0     \n",
       "  1.0     \n",
       " -0.968356\n",
       " -1.0     \n",
       " -0.9957  \n",
       "  ⋮       \n",
       "  0.0     \n",
       "  0.0     \n",
       "  0.0     \n",
       "  0.0     \n",
       "  0.0     \n",
       "  0.0     \n",
       "  0.0     \n",
       "  0.0     \n",
       "  0.0     \n",
       "  0.0     \n",
       "  0.0     \n",
       "  0.0     "
      ]
     },
     "execution_count": 11,
     "metadata": {},
     "output_type": "execute_result"
    }
   ],
   "source": [
    "Xmat=Matrix(mysparseDataX)\n",
    "Ymat=Array(mysparseDataY)\n",
    "Ymat=Ymat[:] \n",
    "typeof(Ymat)\n",
    "sparseReg(Xmat,Ymat,20,1)\n",
    "# # "
   ]
  },
  {
   "cell_type": "code",
   "execution_count": null,
   "metadata": {},
   "outputs": [
    {
     "data": {
      "text/plain": [
       "200×1 Array{Int64,2}:\n",
       " -1\n",
       " -1\n",
       "  1\n",
       "  1\n",
       "  1\n",
       " -1\n",
       " -1\n",
       "  1\n",
       " -1\n",
       "  1\n",
       " -1\n",
       " -1\n",
       " -1\n",
       "  ⋮\n",
       "  0\n",
       "  0\n",
       "  0\n",
       "  0\n",
       "  0\n",
       "  0\n",
       "  0\n",
       "  0\n",
       "  0\n",
       "  0\n",
       "  0\n",
       "  0"
      ]
     },
     "execution_count": 12,
     "metadata": {},
     "output_type": "execute_result"
    }
   ],
   "source": [
    "TrueBData"
   ]
  },
  {
   "cell_type": "code",
   "execution_count": null,
   "metadata": {},
   "outputs": [
    {
     "data": {
      "text/plain": [
       "intersectcount (generic function with 1 method)"
      ]
     },
     "execution_count": 13,
     "metadata": {},
     "output_type": "execute_result"
    }
   ],
   "source": [
    "function intersectcount(bstar,btrue)\n",
    "    count = 0 \n",
    "    dummy = bstar.*btrue\n",
    "    l,p = size(dummy)\n",
    "    for i in 1:l\n",
    "        if dummy[i] != 0\n",
    "            count = count + 1\n",
    "        end\n",
    "    end\n",
    "    internonzero=count\n",
    "    return(internonzero)\n",
    "end\n",
    "    "
   ]
  },
  {
   "cell_type": "code",
   "execution_count": null,
   "metadata": {},
   "outputs": [
    {
     "data": {
      "text/plain": [
       "accuracyrate (generic function with 1 method)"
      ]
     },
     "execution_count": 14,
     "metadata": {},
     "output_type": "execute_result"
    }
   ],
   "source": [
    "function accuracyrate(bstar,btrue,k)\n",
    "    internonzero = intersectcount(bstar,btrue)\n",
    "    accrate= internonzero/k * 100 \n",
    "    return accrate\n",
    "end"
   ]
  },
  {
   "cell_type": "code",
   "execution_count": null,
   "metadata": {},
   "outputs": [
    {
     "data": {
      "text/plain": [
       "betastarcount (generic function with 1 method)"
      ]
     },
     "execution_count": 15,
     "metadata": {},
     "output_type": "execute_result"
    }
   ],
   "source": [
    "function betastarcount(Bstar,m) \n",
    "    changedim = Bstar.*ones(m,1)\n",
    "    count = 0 \n",
    "    for i in 1:m\n",
    "        if (changedim[i] != 0)\n",
    "            count = count + 1\n",
    "        end\n",
    "    end\n",
    " return count\n",
    "end"
   ]
  },
  {
   "cell_type": "code",
   "execution_count": null,
   "metadata": {},
   "outputs": [
    {
     "data": {
      "text/plain": [
       "betatruecount (generic function with 1 method)"
      ]
     },
     "execution_count": 16,
     "metadata": {},
     "output_type": "execute_result"
    }
   ],
   "source": [
    "function betatruecount(Btrue,m)\n",
    "    count = 0 \n",
    "    for i in 1:m\n",
    "        if (Btrue[i]!=0)\n",
    "            count = count + 1 \n",
    "        end\n",
    "    end\n",
    "    return count\n",
    "end\n"
   ]
  },
  {
   "cell_type": "code",
   "execution_count": null,
   "metadata": {},
   "outputs": [
    {
     "data": {
      "text/plain": [
       "falsityrate (generic function with 1 method)"
      ]
     },
     "execution_count": 17,
     "metadata": {},
     "output_type": "execute_result"
    }
   ],
   "source": [
    "function falsityrate(Bstar, Btrue, k)\n",
    "    m,n = size(Btrue)\n",
    "    denom = betatruecount(Btrue,m)\n",
    "    dummy = Bstar.*Btrue\n",
    "    changedim=Bstar.*ones(m,1)\n",
    "    count = 0 \n",
    "    for i in 1:m \n",
    "        if dummy[i] == 0 && Btrue[i] == 0 && changedim[i] != 0\n",
    "            count = count + 1\n",
    "        end\n",
    "    end\n",
    "    numerator = count\n",
    "    falsityrate = numerator / denom * 100\n",
    "    return falsityrate\n",
    "end\n",
    "\n",
    "    "
   ]
  },
  {
   "cell_type": "markdown",
   "metadata": {},
   "source": [
    "# PROBLEM 2B########################\n"
   ]
  },
  {
   "cell_type": "code",
   "execution_count": null,
   "metadata": {},
   "outputs": [
    {
     "name": "stdout",
     "output_type": "stream",
     "text": [
      "Academic license - for non-commercial use only\n",
      "7.11041300374283elapsed time: 47.834424807 seconds\n",
      "Academic license - for non-commercial use only\n",
      "26.759161745592955elapsed time: 4.169224645 seconds\n",
      "Academic license - for non-commercial use only\n",
      "6.821958699750449elapsed time: 458.288376103 seconds\n"
     ]
    },
    {
     "data": {
      "text/plain": [
       "458.288376103"
      ]
     },
     "execution_count": 18,
     "metadata": {},
     "output_type": "execute_result"
    }
   ],
   "source": [
    "\n",
    "tic()\n",
    "testcaseK20M1 = sparseReg(Xmat,Ymat,20,1)\n",
    "toc()\n",
    "\n",
    "tic()\n",
    "testcaseK20Mhalf = sparseReg(Xmat,Ymat,20,.5)\n",
    "toc()\n",
    "\n",
    "tic()\n",
    "testcaseK20M2 = sparseReg(Xmat,Ymat,20,2)\n",
    "toc()\n"
   ]
  },
  {
   "cell_type": "code",
   "execution_count": null,
   "metadata": {},
   "outputs": [
    {
     "name": "stdout",
     "output_type": "stream",
     "text": [
      "ARM1 = 100.0\n",
      "ARM2 = 100.0\n",
      "ARMhalf = 95.0\n",
      "FRM1 = 0.0\n",
      "FRM2 = 0.0\n",
      "FRMhalf = 5.0\n"
     ]
    }
   ],
   "source": [
    "########### TESTCASE K = 20, M = 1 ####################\n",
    "\n",
    "ARM1 = accuracyrate(testcaseK20M1,TrueBData,20)\n",
    "FRM1 = falsityrate(testcaseK20M1,TrueBData,20)\n",
    "\n",
    "############ TEST CASE K = 20, M = .5 #######################\n",
    "\n",
    "ARMhalf = accuracyrate(testcaseK20Mhalf,TrueBData,20)\n",
    "FRMhalf = falsityrate(testcaseK20Mhalf, TrueBData,20)\n",
    "\n",
    "############ TEST CASE K=20, M = 2 ######################\n",
    "\n",
    "ARM2 = accuracyrate(testcaseK20M2, TrueBData, 20)\n",
    "FRM2 = falsityrate(testcaseK20M2, TrueBData, 20)\n",
    "\n",
    "\n",
    "println(\"ARM1 = \", ARM1)\n",
    "\n",
    "println(\"ARM2 = \", ARM2)\n",
    "\n",
    "println(\"ARMhalf = \", ARMhalf)\n",
    "\n",
    "println(\"FRM1 = \", FRM1)\n",
    "\n",
    "println(\"FRM2 = \", FRM2)\n",
    "\n",
    "println(\"FRMhalf = \", FRMhalf)\n",
    "\n"
   ]
  },
  {
   "cell_type": "code",
   "execution_count": null,
   "metadata": {
    "collapsed": true
   },
   "outputs": [],
   "source": [
    "## If M > 1, the accuracy rate -> 100.0, and the false positive rate -> 0. \n",
    "## For M = 1,2, the False Positive Rate (FR) = 0.0 and the accuracy rate (AR) = 100.0. \n",
    "## If M < 1, the accuracy rate <= 100.0, and the false positive rate >= 0 . For M = .5,\n",
    "## the False Positive Rate (FR)= 5.0, and the accuracy rate (AR) is  95.0. \n",
    "## As M > 1, the run times increase. For M = 1, the run time is  47.834424807\n",
    "## and for M = 2, the run time is 458.288376103 seconds\n",
    "## As M < 1, the run times decrease. For M = 1/2, \n",
    "## the run time is 4.169224645 seconds.\n",
    "## If M > 1, the objective values (ie t) get smaller. For M = 1, the t is 7.1104130037428\n",
    "## and for M = 2, the t is 6.821958699750449. \n",
    "## If M < 1, the objective values (ie t) get bigger. For M = .5, the t is 26.759161745592955."
   ]
  },
  {
   "cell_type": "markdown",
   "metadata": {},
   "source": [
    "## PROBLEM 2C ###########################################"
   ]
  },
  {
   "cell_type": "code",
   "execution_count": null,
   "metadata": {},
   "outputs": [
    {
     "name": "stdout",
     "output_type": "stream",
     "text": [
      "Academic license - for non-commercial use only\n",
      "5.838297180291471 \n",
      "elapsed time: 4.061509788 seconds\n"
     ]
    },
    {
     "data": {
      "text/plain": [
       "4.061509788"
      ]
     },
     "execution_count": 21,
     "metadata": {},
     "output_type": "execute_result"
    }
   ],
   "source": [
    "\n",
    "\n",
    "Xmat100 = Xmat[1:100,:]\n",
    "Ymat100 = Ymat[1:100,:]\n",
    "k = 20\n",
    "tic()\n",
    "sparsereg100obsM1 = sparseReg(Xmat100, Ymat100, k, 1)\n",
    "println(\" \")\n",
    "toc()\n",
    "\n",
    "\n",
    "\n",
    "\n"
   ]
  },
  {
   "cell_type": "code",
   "execution_count": null,
   "metadata": {},
   "outputs": [
    {
     "name": "stdout",
     "output_type": "stream",
     "text": [
      "100.0 0.0\n"
     ]
    }
   ],
   "source": [
    "SP100ARM1 = accuracyrate(sparsereg100obsM1,TrueBData,20)\n",
    "SP100FRM1 = falsityrate(sparsereg100obsM1,TrueBData,20)\n",
    "println(SP100ARM1,\" \", SP100FRM1)\n"
   ]
  },
  {
   "cell_type": "code",
   "execution_count": null,
   "metadata": {
    "scrolled": false
   },
   "outputs": [
    {
     "name": "stdout",
     "output_type": "stream",
     "text": [
      "Academic license - for non-commercial use only\n",
      "5.196960617913158 \n",
      "elapsed time: 4.920301614 seconds\n"
     ]
    },
    {
     "data": {
      "text/plain": [
       "4.920301614"
      ]
     },
     "execution_count": 23,
     "metadata": {},
     "output_type": "execute_result"
    }
   ],
   "source": [
    "Xmat80 = Xmat[1:80,:]\n",
    "Ymat80 = Ymat[1:80,:]\n",
    "k = 20\n",
    "tic()\n",
    "sparsereg80obsM1 = sparseReg(Xmat80, Ymat80, k, 1)\n",
    "println(\" \")\n",
    "toc()\n"
   ]
  },
  {
   "cell_type": "code",
   "execution_count": null,
   "metadata": {
    "collapsed": true
   },
   "outputs": [],
   "source": [
    "SP80ARM1 = accuracyrate(sparsereg80obsM1,TrueBData,20)\n",
    "SP80FRM1 = falsityrate(sparsereg80obsM1,TrueBData,20)\n",
    "\n",
    "println(SP80ARM1,\" \", SP80FRM1)\n"
   ]
  },
  {
   "cell_type": "code",
   "execution_count": null,
   "metadata": {
    "collapsed": true
   },
   "outputs": [],
   "source": [
    "#sparsereg60obsM1 = sparseReg(Xmat60, Ymat60, k, 1)                                                \n",
    "#this errors out and doesn't yield an output. "
   ]
  },
  {
   "cell_type": "code",
   "execution_count": null,
   "metadata": {
    "collapsed": true
   },
   "outputs": [],
   "source": [
    "#SP60ARM1 = accuracyrate(sparsereg60obsM1,TrueBData,20)\n",
    "#SP60FRM1 = falsityrate(sparsereg60obsM1,TrueBData,20)\n",
    "#Since I am unable to generate an output for the sparse regression, I cannot obtain\n",
    "# the false positive and accuracy rates. "
   ]
  },
  {
   "cell_type": "code",
   "execution_count": null,
   "metadata": {
    "collapsed": true
   },
   "outputs": [],
   "source": [
    "## \n",
    "# With M = 1, try running the regression on only the first 100 points in the dataset, then\n",
    "# the first 80 points only, and finally the first 60 only. What do you observe?\n",
    "\n",
    "# with 100 and 80 points, the program runs to completion. \n",
    "# As you decrease the number of data points, the model takes more time to run.\n",
    "# For 100 data points, the model takes 4.061509788 seconds to run and yields \n",
    "# an objective value of 5.838297180291471. \n",
    "# For 80 data points, the model takes 4.920301614 seconds to run and yields\n",
    "# an objective value of 5.196960617913158. \n",
    "# With 60 points, there are not enough points and the model explodes. \n",
    "# I was not able to run the model successfully. \n"
   ]
  },
  {
   "cell_type": "code",
   "execution_count": 3,
   "metadata": {},
   "outputs": [
    {
     "name": "stdout",
     "output_type": "stream",
     "text": [
      "search: \u001b[1mc\u001b[22m\u001b[1ma\u001b[22m\u001b[1mt\u001b[22m \u001b[1mc\u001b[22m\u001b[1ma\u001b[22m\u001b[1mt\u001b[22mch \u001b[1mc\u001b[22m\u001b[1ma\u001b[22m\u001b[1mt\u001b[22malan \u001b[1mc\u001b[22m\u001b[1ma\u001b[22m\u001b[1mt\u001b[22mch_backtrace \u001b[1mc\u001b[22m\u001b[1ma\u001b[22m\u001b[1mt\u001b[22mch_stacktrace v\u001b[1mc\u001b[22m\u001b[1ma\u001b[22m\u001b[1mt\u001b[22m h\u001b[1mc\u001b[22m\u001b[1ma\u001b[22m\u001b[1mt\u001b[22m hv\u001b[1mc\u001b[22m\u001b[1ma\u001b[22m\u001b[1mt\u001b[22m\n",
      "\n"
     ]
    },
    {
     "data": {
      "text/markdown": [
       "```\n",
       "cat(dims, A...)\n",
       "```\n",
       "\n",
       "Concatenate the input arrays along the specified dimensions in the iterable `dims`. For dimensions not in `dims`, all input arrays should have the same size, which will also be the size of the output array along that dimension. For dimensions in `dims`, the size of the output array is the sum of the sizes of the input arrays along that dimension. If `dims` is a single number, the different arrays are tightly stacked along that dimension. If `dims` is an iterable containing several dimensions, this allows one to construct block diagonal matrices and their higher-dimensional analogues by simultaneously increasing several dimensions for every new input array and putting zero blocks elsewhere. For example, `cat([1,2], matrices...)` builds a block diagonal matrix, i.e. a block matrix with `matrices[1]`, `matrices[2]`, ... as diagonal blocks and matching zero blocks away from the diagonal.\n"
      ],
      "text/plain": [
       "```\n",
       "cat(dims, A...)\n",
       "```\n",
       "\n",
       "Concatenate the input arrays along the specified dimensions in the iterable `dims`. For dimensions not in `dims`, all input arrays should have the same size, which will also be the size of the output array along that dimension. For dimensions in `dims`, the size of the output array is the sum of the sizes of the input arrays along that dimension. If `dims` is a single number, the different arrays are tightly stacked along that dimension. If `dims` is an iterable containing several dimensions, this allows one to construct block diagonal matrices and their higher-dimensional analogues by simultaneously increasing several dimensions for every new input array and putting zero blocks elsewhere. For example, `cat([1,2], matrices...)` builds a block diagonal matrix, i.e. a block matrix with `matrices[1]`, `matrices[2]`, ... as diagonal blocks and matching zero blocks away from the diagonal.\n"
      ]
     },
     "execution_count": 3,
     "metadata": {},
     "output_type": "execute_result"
    }
   ],
   "source": [
    "?cat\n"
   ]
  }
 ],
 "metadata": {
  "kernelspec": {
   "display_name": "Julia 0.6.0",
   "language": "julia",
   "name": "julia-0.6"
  },
  "language_info": {
   "file_extension": ".jl",
   "mimetype": "application/julia",
   "name": "julia",
   "version": "0.6.0"
  }
 },
 "nbformat": 4,
 "nbformat_minor": 2
}
