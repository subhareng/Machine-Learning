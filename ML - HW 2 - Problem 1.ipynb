{
 "cells": [
  {
   "cell_type": "code",
   "execution_count": 26,
   "metadata": {
    "collapsed": true
   },
   "outputs": [],
   "source": [
    "using DataFrames\n",
    "using DataFramesMeta\n",
    "myData1 = readtable(\"C:/Users/subha/Desktop/ML - HW 2/Data1.csv\",header=true);\n",
    "myData2 = readtable(\"C:/Users/subha/Desktop/ML - HW 2/Data2.csv\",header=true);\n",
    "\n"
   ]
  },
  {
   "cell_type": "markdown",
   "metadata": {},
   "source": [
    "# Algorithmic Approach to Linear Regression\n"
   ]
  },
  {
   "cell_type": "markdown",
   "metadata": {},
   "source": []
  },
  {
   "cell_type": "code",
   "execution_count": 2,
   "metadata": {},
   "outputs": [
    {
     "data": {
      "text/plain": [
       "pairwise (generic function with 1 method)"
      ]
     },
     "execution_count": 2,
     "metadata": {},
     "output_type": "execute_result"
    }
   ],
   "source": [
    "function pairwise(X, threshold)\n",
    "    xcorr =[]\n",
    "    ycorr =[]\n",
    "    (j,k)=size(X)\n",
    "    for i = 1:j\n",
    "        for j = 1:k\n",
    "            if (abs(X[i,j]) >= threshold && i!=j)\n",
    "                push!(xcorr,i)\n",
    "                push!(ycorr,j)\n",
    "            end\n",
    "        end\n",
    "    end\n",
    "    xycorr = hcat(xcorr,ycorr)\n",
    "    return xycorr\n",
    "end\n"
   ]
  },
  {
   "cell_type": "code",
   "execution_count": 3,
   "metadata": {},
   "outputs": [
    {
     "data": {
      "text/plain": [
       "spitindices (generic function with 1 method)"
      ]
     },
     "execution_count": 3,
     "metadata": {},
     "output_type": "execute_result"
    }
   ],
   "source": [
    "function spitindices(xycorr,i)\n",
    "    n = xycorr[i,1]\n",
    "    m = xycorr[i,2]\n",
    "    return n,m\n",
    "end\n",
    "    "
   ]
  },
  {
   "cell_type": "code",
   "execution_count": null,
   "metadata": {
    "collapsed": true
   },
   "outputs": [],
   "source": []
  },
  {
   "cell_type": "code",
   "execution_count": 4,
   "metadata": {},
   "outputs": [
    {
     "data": {
      "text/plain": [
       "75×15 Array{Float64,2}:\n",
       " 3.0145   2.00206  5.21028  4.80966  …  5.10616  5.17664  2.91837   4.61628\n",
       " 7.4166   3.95453  5.02839  4.70284     4.83294  4.53411  6.12326   4.61811\n",
       " 5.44684  4.82233  5.01611  5.04528     4.89085  4.70273  3.95705   5.01098\n",
       " 6.45016  3.33815  4.67588  4.55304     4.42254  4.45643  4.29816   4.29062\n",
       " 6.49142  5.09745  4.48581  4.52562     4.6047   4.49192  4.67302   5.04594\n",
       " 3.93195  2.81881  4.68835  5.20962  …  4.48509  4.51251  3.95692   5.20192\n",
       " 3.16698  4.28198  5.098    5.05558     4.91201  4.86546  4.70301   4.33607\n",
       " 3.83304  3.79805  4.37044  4.60972     5.16425  4.54111  3.88279   5.0377 \n",
       " 5.6576   6.05616  5.06346  4.84959     5.03764  4.45284  5.83033   4.45421\n",
       " 5.51183  2.49956  5.25686  4.71694     5.27198  5.04122  3.25039   4.65141\n",
       " 2.74823  4.06677  4.79357  5.14666  …  4.96842  4.66686  3.84317   4.6201 \n",
       " 1.21188  2.75412  4.94721  4.76064     4.76967  4.92002  2.35722   5.02438\n",
       " 4.99028  5.29341  4.69187  4.42677     4.81216  5.16056  3.23745   4.43269\n",
       " ⋮                                   ⋱                                     \n",
       " 4.16507  5.30146  4.93979  5.06917     5.20995  4.38528  4.20302   5.06971\n",
       " 4.92019  6.00692  5.19355  4.63962     4.30096  4.80212  4.86328   4.49378\n",
       " 5.01889  6.74819  4.32546  4.7525   …  4.94489  4.38648  5.58206   5.05002\n",
       " 3.86188  2.39356  5.15888  4.70964     4.33629  5.27364  2.51721   5.06443\n",
       " 2.73548  1.71165  4.28902  4.85392     4.48139  4.67564  0.911331  4.48123\n",
       " 2.65499  3.27348  4.76966  5.03488     4.4501   4.37059  5.14786   5.09689\n",
       " 2.46871  3.0021   4.63236  4.41553     4.8549   4.95287  3.33795   4.50534\n",
       " 4.9401   3.88774  4.98586  4.48506  …  5.06758  4.64213  5.30802   5.12956\n",
       " 2.65028  3.1978   4.76893  5.14002     4.91381  4.64645  2.54727   4.77888\n",
       " 3.44381  2.93672  4.61465  4.79435     4.9759   5.13406  2.52314   5.19011\n",
       " 3.03465  2.08353  5.09446  4.61817     4.38368  5.13063  4.03767   5.13414\n",
       " 4.3882   7.82292  4.31907  4.7439      5.1654   5.08498  4.4911    4.77447"
      ]
     },
     "execution_count": 4,
     "metadata": {},
     "output_type": "execute_result"
    }
   ],
   "source": [
    "X = myData1[1:end-1]\n",
    "Y = myData1[end]\n",
    "\n",
    "using MLDataUtils\n",
    "(train_X, train_Y), (test_X, test_Y) = splitobs(shuffleobs((X,Y)), at=.7)\n",
    "(tr_X, tr_y), (vl_X, vl_y) = splitobs(shuffleobs((train_X, train_Y)), at=0.67)\n",
    "\n",
    "\n",
    "tr_X = Matrix(tr_X)\n",
    "vl_X = Matrix(vl_X)\n",
    "train_X = Matrix(train_X)\n",
    "test_X = Matrix(test_X)"
   ]
  },
  {
   "cell_type": "code",
   "execution_count": 5,
   "metadata": {},
   "outputs": [
    {
     "data": {
      "text/plain": [
       "rspt (generic function with 1 method)"
      ]
     },
     "execution_count": 5,
     "metadata": {},
     "output_type": "execute_result"
    }
   ],
   "source": [
    "using JuMP, Gurobi\n",
    "\n",
    "\n",
    "function rspt(X,Y,rho,k,M,threshold)\n",
    "    (l,p) = size(X)\n",
    "    Xsquare = X.^2 \n",
    "    Xlog= log.(X)\n",
    "    Xsqrt = sqrt.(X)\n",
    "    X = hcat(X,Xsquare,Xlog,Xsqrt)\n",
    "    (n,m) = size(X)\n",
    "    corrMat = cor(X)\n",
    "    modelprob1 = Model(solver=GurobiSolver(OutputFlag=0))\n",
    "#robustness with lasso penalty\n",
    "    \n",
    "@variable(modelprob1,b[1:m])\n",
    "@variable(modelprob1,t)\n",
    "@variable(modelprob1,theta)\n",
    "@variable(modelprob1,z[1:m],Bin)\n",
    "@variable(modelprob1,s[1:m])\n",
    "#robustness\n",
    "@constraint(modelprob1, sum(s[j] for j=1:m)<=theta)\n",
    "for j = 1:m\n",
    "    @constraint(modelprob1, b[j] <= s[j])\n",
    "    @constraint(modelprob1, b[j] >= -s[j])\n",
    "end\n",
    "@constraint(modelprob1, norm(Y-X*b)<=t)\n",
    "\n",
    "   \n",
    "for j=1:m\n",
    "        @constraint(modelprob1, b[j] <=  M * z[j])\n",
    "        @constraint(modelprob1, b[j] >= -M * z[j])\n",
    "end\n",
    "    \n",
    "#sparsity \n",
    "    @constraint(modelprob1, sum(z[j] for j=1:m)<=k)\n",
    "#pairwise collinearity \n",
    "    pairwisexy = pairwise(corrMat,threshold) \n",
    "    (c,d)=size(pairwisexy)   \n",
    "for i=1:c\n",
    "    (d,e) = spitindices(pairwisexy,i)\n",
    "    @constraint(modelprob1, z[e] + z[d]  <= 1)\n",
    "end\n",
    "    \n",
    "    #NL transformation\n",
    "     for i=1:p\n",
    "         @constraint(modelprob1, z[i] + z[i+p] + z[i+2*p] + z[i+3*p] <= 1)\n",
    "     end\n",
    "        \n",
    "@objective(modelprob1, Min, (t + rho*theta))\n",
    "\n",
    "modelprob1\n",
    "solve(modelprob1)\n",
    "@show betastar = getvalue(b)\n",
    "\n",
    "\n",
    "end\n"
   ]
  },
  {
   "cell_type": "code",
   "execution_count": 6,
   "metadata": {},
   "outputs": [
    {
     "data": {
      "text/plain": [
       "validmult (generic function with 1 method)"
      ]
     },
     "execution_count": 6,
     "metadata": {},
     "output_type": "execute_result"
    }
   ],
   "source": [
    " function validmult(X)\n",
    "    Xsquare = X.^2 \n",
    "    Xlog= log.(X)\n",
    "    Xsqrt = sqrt.(X)\n",
    "    X = hcat(X,Xsquare,Xlog,Xsqrt)\n",
    "    return X\n",
    "end\n",
    "\n"
   ]
  },
  {
   "cell_type": "code",
   "execution_count": 7,
   "metadata": {},
   "outputs": [
    {
     "name": "stdout",
     "output_type": "stream",
     "text": [
      "Academic license - for non-commercial use only\n",
      "betastar = getvalue(b) = [0.0, 0.0, 0.0, 0.380469, 0.0, 0.0, 0.0, 0.0, 0.0, 0.0, 0.544994, 0.265614, 0.0, 0.0, 0.0, -0.00066829, 0.0, 0.0, 0.0, 0.00359103, 0.000972216, 0.000391949, -0.00397524, 0.00153658, 0.0, 0.0, 0.0, 0.0, 0.0, -0.00360129, 0.0, 0.0, 0.0, 0.0, 0.0, 0.0, 0.0, 0.0, 0.0, 0.0, 0.0, 0.0, 0.0, 0.0, 0.0, 0.0, 0.0, 0.0, 0.0, 0.0, 0.0, 0.0, 0.0, 0.0, 0.0, 0.0, 0.0, 0.0, 0.0, 0.0]\n"
     ]
    },
    {
     "data": {
      "text/plain": [
       "60-element Array{Float64,1}:\n",
       " 0.0     \n",
       " 0.0     \n",
       " 0.0     \n",
       " 0.380469\n",
       " 0.0     \n",
       " 0.0     \n",
       " 0.0     \n",
       " 0.0     \n",
       " 0.0     \n",
       " 0.0     \n",
       " 0.544994\n",
       " 0.265614\n",
       " 0.0     \n",
       " ⋮       \n",
       " 0.0     \n",
       " 0.0     \n",
       " 0.0     \n",
       " 0.0     \n",
       " 0.0     \n",
       " 0.0     \n",
       " 0.0     \n",
       " 0.0     \n",
       " 0.0     \n",
       " 0.0     \n",
       " 0.0     \n",
       " 0.0     "
      ]
     },
     "execution_count": 7,
     "metadata": {},
     "output_type": "execute_result"
    }
   ],
   "source": [
    "#test\n",
    "X = myData1[1:end-1]\n",
    "Y = myData1[end]\n",
    "\n",
    "betastar = rspt(Matrix(X),Y,.1,10,1,.7)"
   ]
  },
  {
   "cell_type": "code",
   "execution_count": 8,
   "metadata": {},
   "outputs": [
    {
     "data": {
      "text/plain": [
       "evaluate (generic function with 1 method)"
      ]
     },
     "execution_count": 8,
     "metadata": {},
     "output_type": "execute_result"
    }
   ],
   "source": [
    "function evaluate(X,y,β)\n",
    "    norm(y - X * β)\n",
    "end"
   ]
  },
  {
   "cell_type": "code",
   "execution_count": 9,
   "metadata": {},
   "outputs": [
    {
     "data": {
      "text/plain": [
       "10-element Array{Int64,1}:\n",
       "  4\n",
       " 11\n",
       " 12\n",
       " 16\n",
       " 20\n",
       " 21\n",
       " 22\n",
       " 23\n",
       " 24\n",
       " 30"
      ]
     },
     "execution_count": 9,
     "metadata": {},
     "output_type": "execute_result"
    }
   ],
   "source": [
    "find(betastar)"
   ]
  },
  {
   "cell_type": "markdown",
   "metadata": {},
   "source": [
    "\n",
    "Problem 1 , Dataset 1 ) Please run your algorithm on the datasets data1.csv to find the best regression\n",
    "model you can. You will need to tune all of the hyperparameters in the algorithm to achieve the\n",
    "best results. (In each dataset the y is the last column and the X is all but the last column).\n"
   ]
  },
  {
   "cell_type": "code",
   "execution_count": 29,
   "metadata": {
    "scrolled": false
   },
   "outputs": [
    {
     "name": "stdout",
     "output_type": "stream",
     "text": [
      "Academic license - for non-commercial use only\n",
      "betastar = getvalue(b) = [0.933972, 0.614125, 0.0, 0.0, 0.0199671, 0.0, 0.0, 0.0, 0.0, 0.00614471, 0.0, 0.0, 0.0, 0.0, 0.0, 0.0, 0.0, 0.0, 0.0, 0.0, 0.417282, 0.0, 0.0, 0.0, 0.0, 0.0, 0.0, 0.0]\n",
      "(rho, M, k, threshold, score) = (0.1, 1, 5, 0.5, 1.2567077455193576)\n",
      "Academic license - for non-commercial use only\n",
      "betastar = getvalue(b) = [0.938869, 0.620156, 0.0542556, 0.0, 0.0, 0.0, 0.0, 0.0, 0.0, 0.0, -0.00303672, 0.0, 0.0, 0.0, 0.0, 0.0, 0.0, 0.0, 0.0, 0.0, 0.404163, 0.0, 0.0, 0.0, 0.0, 0.0, 0.0, 0.0]\n",
      "(rho, M, k, threshold, score) = (0.1, 1, 5, 0.7, 1.2358820220385252)\n",
      "Academic license - for non-commercial use only\n",
      "betastar = getvalue(b) = [0.933707, 0.61081, 0.0, 0.0, 0.0191555, 0.0148633, 0.0, 0.0, 0.0, 0.00623216, -0.00253449, 0.0, 0.0, 0.0, 0.0, 0.0, 0.0, 0.0, 0.0, 0.0, 0.416175, 0.0, 0.0, 0.0, 0.0, 0.0, 0.0, 0.0]\n",
      "(rho, M, k, threshold, score) = (0.1, 1, 7, 0.5, 1.2654962581721574)\n",
      "Academic license - for non-commercial use only\n",
      "betastar = getvalue(b) = [0.926964, 0.60504, 0.0544801, 0.0, 0.0210487, 0.0, 0.0, 0.0, 0.0, 0.0, -0.0034887, 0.0, 0.00205531, 0.0, 0.0, 0.0, 0.0, 0.0, 0.0, 0.0, 0.40176, 0.0, 0.0, 0.0, 0.0, 0.0, 0.0, 0.0]\n",
      "(rho, M, k, threshold, score) = (0.1, 1, 7, 0.7, 1.2485898356938587)\n",
      "Academic license - for non-commercial use only\n",
      "betastar = getvalue(b) = [0.933707, 0.61081, 0.0, 0.0, 0.0191555, 0.0148633, 0.0, 0.0, 0.0, 0.00623216, -0.00253449, 0.0, 0.0, 0.0, 0.0, 0.0, 0.0, 0.0, 0.0, 0.0, 0.416175, 0.0, 0.0, 0.0, 0.0, 0.0, 0.0, 0.0]\n",
      "(rho, M, k, threshold, score) = (0.1, 1, 10, 0.5, 1.2654962581721574)\n",
      "Academic license - for non-commercial use only\n",
      "betastar = getvalue(b) = [0.926964, 0.60504, 0.0544801, 0.0, 0.0210487, 0.0, 0.0, 0.0, 0.0, 0.0, -0.0034887, 0.0, 0.00205531, 0.0, 0.0, 0.0, 0.0, 0.0, 0.0, 0.0, 0.40176, 0.0, 0.0, 0.0, 0.0, 0.0, 0.0, 0.0]\n",
      "(rho, M, k, threshold, score) = (0.1, 1, 10, 0.7, 1.2485898356938587)\n",
      "Academic license - for non-commercial use only\n",
      "betastar = getvalue(b) = [0.934448, 0.614258, 0.0, 0.0, 0.0193275, 0.0, 0.0, 0.0, 0.0, 0.00614817, 0.0, 0.0, 0.0, 0.0, 0.0, 0.0, 0.0, 0.0, 0.0, 0.0, 0.417164, 0.0, 0.0, 0.0, 0.0, 0.0, 0.0, 0.0]\n",
      "(rho, M, k, threshold, score) = (0.1, 2, 5, 0.5, 1.2567601156597974)\n",
      "Academic license - for non-commercial use only\n",
      "betastar = getvalue(b) = [0.938484, 0.620354, 0.0542527, 0.0, 0.0, 0.0, 0.0, 0.0, 0.0, 0.0, -0.00292916, 0.0, 0.0, 0.0, 0.0, 0.0, 0.0, 0.0, 0.0, 0.0, 0.403465, 0.0, 0.0, 0.0, 0.0, 0.0, 0.0, 0.0]\n",
      "(rho, M, k, threshold, score) = (0.1, 2, 5, 0.7, 1.2362899452945966)\n",
      "Academic license - for non-commercial use only\n",
      "betastar = getvalue(b) = [0.93425, 0.610794, 0.0, 0.0, 0.0188408, 0.0147017, 0.0, 0.0, 0.0, 0.00622239, -0.00249681, 0.0, 0.0, 0.0, 0.0, 0.0, 0.0, 0.0, 0.0, 0.0, 0.415709, 0.0, 0.0, 0.0, 0.0, 0.0, 0.0, 0.0]\n",
      "(rho, M, k, threshold, score) = (0.1, 2, 7, 0.5, 1.2657837303863262)\n",
      "Academic license - for non-commercial use only\n",
      "betastar = getvalue(b) = [0.930371, 0.609045, 0.054271, 0.0, 0.0, 0.0, 0.0, 0.0, 0.0, 0.0, -0.00325142, 0.00268845, 0.00241398, 0.0, 0.0, 0.0, 0.0, 0.0, 0.0, 0.0, 0.401792, 0.0, 0.0, 0.0, 0.0, 0.0, 0.0, 0.0]\n",
      "(rho, M, k, threshold, score) = (0.1, 2, 7, 0.7, 1.2520383390479435)\n",
      "Academic license - for non-commercial use only\n",
      "betastar = getvalue(b) = [0.93425, 0.610794, 0.0, 0.0, 0.0188408, 0.0147017, 0.0, 0.0, 0.0, 0.00622239, -0.00249681, 0.0, 0.0, 0.0, 0.0, 0.0, 0.0, 0.0, 0.0, 0.0, 0.415709, 0.0, 0.0, 0.0, 0.0, 0.0, 0.0, 0.0]\n",
      "(rho, M, k, threshold, score) = (0.1, 2, 10, 0.5, 1.2657837303863262)\n",
      "Academic license - for non-commercial use only\n",
      "betastar = getvalue(b) = [0.930371, 0.609045, 0.054271, 0.0, 0.0, 0.0, 0.0, 0.0, 0.0, 0.0, -0.00325142, 0.00268845, 0.00241398, 0.0, 0.0, 0.0, 0.0, 0.0, 0.0, 0.0, 0.401792, 0.0, 0.0, 0.0, 0.0, 0.0, 0.0, 0.0]\n",
      "(rho, M, k, threshold, score) = (0.1, 2, 10, 0.7, 1.2520383390479435)\n",
      "Academic license - for non-commercial use only\n",
      "betastar = getvalue(b) = [1.0, 0.0, 0.0, 0.0, 0.112399, 0.0, 0.0, 0.0, 0.0858808, 0.00601312, 0.0, 0.0, 0.0, 0.0, 0.0, 0.0, 0.0, 0.0, 0.0, 0.0, 0.0, 0.0, 0.0, 0.0, 0.0, 0.0, 0.0, 0.484241]\n",
      "(rho, M, k, threshold, score) = (1.0, 1, 5, 0.5, 1.6899954278902571)\n",
      "Academic license - for non-commercial use only\n",
      "betastar = getvalue(b) = [0.999824, 0.0, 0.0545036, 0.0, 0.101856, 0.0, 0.0, 0.0, 0.0843801, 0.0, 0.0, 0.0, 0.0, 0.0, 0.0, 0.0, 0.0, 0.0, 0.0, 0.0, 0.0, 0.0, 0.0, 0.0, 0.0, 0.0, 0.0, 0.464637]\n",
      "(rho, M, k, threshold, score) = (1.0, 1, 5, 0.7, 1.6531512877441938)\n",
      "Academic license - for non-commercial use only\n",
      "betastar = getvalue(b) = [0.0, 0.70301, 0.0, 0.0623588, 0.105298, 0.0915575, 0.0, 0.122605, 0.0, 0.00585052, 0.0, 0.0, 0.0, 0.0, 0.0, 0.0, 0.0, 0.0, 0.0, 0.0, 0.0, 0.0, 0.0, 0.0, 0.0, 0.0, 0.0, 0.481322]\n",
      "(rho, M, k, threshold, score) = (1.0, 1, 7, 0.5, 1.7385106790636717)\n",
      "Academic license - for non-commercial use only\n",
      "betastar = getvalue(b) = [0.0, 0.72077, 0.0519463, 0.0761482, 0.129235, 0.107693, 0.129967, 0.124317, 0.0, 0.0, 0.0, 0.0, 0.0, 0.0, 0.0, 0.0, 0.0, 0.0, 0.0, 0.0, 0.0, 0.0, 0.0, 0.0, 0.0, 0.0, 0.0, 0.0]\n",
      "(rho, M, k, threshold, score) = (1.0, 1, 7, 0.7, 2.009687311257271)\n",
      "Academic license - for non-commercial use only\n",
      "betastar = getvalue(b) = [0.0, 0.70301, 0.0, 0.0623588, 0.105298, 0.0915575, 0.0, 0.122605, 0.0, 0.00585052, 0.0, 0.0, 0.0, 0.0, 0.0, 0.0, 0.0, 0.0, 0.0, 0.0, 0.0, 0.0, 0.0, 0.0, 0.0, 0.0, 0.0, 0.481322]\n",
      "(rho, M, k, threshold, score) = (1.0, 1, 10, 0.5, 1.7385106790636717)\n",
      "Academic license - for non-commercial use only\n",
      "betastar = getvalue(b) = [0.0, 0.72077, 0.0519463, 0.0761482, 0.129235, 0.107693, 0.129967, 0.124317, 0.0, 0.0, 0.0, 0.0, 0.0, 0.0, 0.0, 0.0, 0.0, 0.0, 0.0, 0.0, 0.0, 0.0, 0.0, 0.0, 0.0, 0.0, 0.0, 0.0]\n",
      "(rho, M, k, threshold, score) = (1.0, 1, 10, 0.7, 2.009687311257271)\n",
      "Academic license - for non-commercial use only\n",
      "betastar = getvalue(b) = [1.01102, 0.0, 0.0, 0.0, 0.103834, 0.0, 0.0, 0.0, 0.0854888, 0.00603596, 0.0, 0.0, 0.0, 0.0, 0.0, 0.0, 0.0, 0.0, 0.0, 0.0, 0.0, 0.0, 0.0, 0.0, 0.0, 0.0, 0.0, 0.482324]\n",
      "(rho, M, k, threshold, score) = (1.0, 2, 5, 0.5, 1.6862784602613885)\n",
      "Academic license - for non-commercial use only\n",
      "betastar = getvalue(b) = [1.03887, 0.0, 0.0542668, 0.0, 0.140491, 0.0, 0.129529, 0.0, 0.0886915, 0.0, 0.0, 0.0, 0.0, 0.0, 0.0, 0.0, 0.0, 0.0, 0.0, 0.0, 0.0, 0.0, 0.0, 0.0, 0.0, 0.0, 0.0, 0.0]\n",
      "(rho, M, k, threshold, score) = (1.0, 2, 5, 0.7, 1.9936915613233923)\n",
      "Academic license - for non-commercial use only\n",
      "betastar = getvalue(b) = [0.0, 0.703106, 0.0, 0.0623207, 0.105213, 0.0915572, 0.0, 0.122604, 0.0, 0.00585053, 0.0, 0.0, 0.0, 0.0, 0.0, 0.0, 0.0, 0.0, 0.0, 0.0, 0.0, 0.0, 0.0, 0.0, 0.0, 0.0, 0.0, 0.481391]\n",
      "(rho, M, k, threshold, score) = (1.0, 2, 7, 0.5, 1.738395252619529)\n",
      "Academic license - for non-commercial use only\n",
      "betastar = getvalue(b) = [0.0, 0.720764, 0.051944, 0.0761491, 0.129216, 0.107694, 0.129959, 0.124321, 0.0, 0.0, 0.0, 0.0, 0.0, 0.0, 0.0, 0.0, 0.0, 0.0, 0.0, 0.0, 0.0, 0.0, 0.0, 0.0, 0.0, 0.0, 0.0, 0.0]\n",
      "(rho, M, k, threshold, score) = (1.0, 2, 7, 0.7, 2.009737818697443)\n",
      "Academic license - for non-commercial use only\n",
      "betastar = getvalue(b) = [0.0, 0.703106, 0.0, 0.0623207, 0.105213, 0.0915572, 0.0, 0.122604, 0.0, 0.00585053, 0.0, 0.0, 0.0, 0.0, 0.0, 0.0, 0.0, 0.0, 0.0, 0.0, 0.0, 0.0, 0.0, 0.0, 0.0, 0.0, 0.0, 0.481391]\n",
      "(rho, M, k, threshold, score) = (1.0, 2, 10, 0.5, 1.738395252619529)\n",
      "Academic license - for non-commercial use only\n",
      "betastar = getvalue(b) = [0.0, 0.720764, 0.051944, 0.0761491, 0.129216, 0.107694, 0.129959, 0.124321, 0.0, 0.0, 0.0, 0.0, 0.0, 0.0, 0.0, 0.0, 0.0, 0.0, 0.0, 0.0, 0.0, 0.0, 0.0, 0.0, 0.0, 0.0, 0.0, 0.0]\n",
      "(rho, M, k, threshold, score) = (1.0, 2, 10, 0.7, 2.009737818697443)\n",
      "Academic license - for non-commercial use only\n",
      "betastar = getvalue(b) = [0.0, 0.0, 0.0, 0.0, 0.332205, 0.0, 0.151152, 0.150633, 0.11368, 0.0, 0.0, 0.0, 0.0344315, 0.0, 0.0, 0.0, 0.0, 0.0, 0.0, 0.0, 0.0, 0.0, 0.0, 0.0, 0.0, 0.0, 0.0, 0.0]\n",
      "(rho, M, k, threshold, score) = (2.0, 1, 5, 0.5, 3.128132733510394)\n",
      "Academic license - for non-commercial use only\n",
      "betastar = getvalue(b) = [0.0, 0.0, 0.0, 0.0, 0.332217, 0.0, 0.151155, 0.150627, 0.113684, 0.0, 0.0, 0.0, 0.0344286, 0.0, 0.0, 0.0, 0.0, 0.0, 0.0, 0.0, 0.0, 0.0, 0.0, 0.0, 0.0, 0.0, 0.0, 0.0]\n",
      "(rho, M, k, threshold, score) = (2.0, 1, 5, 0.7, 3.128129453219035)\n"
     ]
    },
    {
     "name": "stdout",
     "output_type": "stream",
     "text": [
      "Academic license - for non-commercial use only\n",
      "betastar = getvalue(b) = [0.0, 0.0, 0.0, 0.0, 0.0, 0.0, 0.152204, 0.151312, 0.113222, 0.0, 0.0361947, 0.0402564, 0.0379581, 0.0, 0.0, 0.0, 0.0, 0.0, 0.0, 0.0, 0.0, 0.0, 0.0, 0.0, 0.0, 0.0, 0.0, 0.0]\n",
      "(rho, M, k, threshold, score) = (2.0, 1, 7, 0.5, 3.221685159350773)\n",
      "Academic license - for non-commercial use only\n",
      "betastar = getvalue(b) = [0.0, 0.0, 0.0486015, 0.221831, 0.0, 0.0, 0.127344, 0.145129, 0.106922, 0.0, 0.0, 0.0349442, 0.0335081, 0.0, 0.0, 0.0, 0.0, 0.0, 0.0, 0.0, 0.0, 0.0, 0.0, 0.0, 0.0, 0.0, 0.0, 0.0]\n",
      "(rho, M, k, threshold, score) = (2.0, 1, 7, 0.7, 2.8062062775876426)\n",
      "Academic license - for non-commercial use only\n",
      "betastar = getvalue(b) = [0.0, 0.0, 0.0, 0.0, 0.0, 0.0, 0.152204, 0.151312, 0.113222, 0.0, 0.0361947, 0.0402564, 0.0379581, 0.0, 0.0, 0.0, 0.0, 0.0, 0.0, 0.0, 0.0, 0.0, 0.0, 0.0, 0.0, 0.0, 0.0, 0.0]\n",
      "(rho, M, k, threshold, score) = (2.0, 1, 10, 0.5, 3.221685159350773)\n",
      "Academic license - for non-commercial use only\n",
      "betastar = getvalue(b) = [0.0, 0.0, 0.0486015, 0.221831, 0.0, 0.0, 0.127344, 0.145129, 0.106922, 0.0, 0.0, 0.0349442, 0.0335081, 0.0, 0.0, 0.0, 0.0, 0.0, 0.0, 0.0, 0.0, 0.0, 0.0, 0.0, 0.0, 0.0, 0.0, 0.0]\n",
      "(rho, M, k, threshold, score) = (2.0, 1, 10, 0.7, 2.8062062775876426)\n",
      "Academic license - for non-commercial use only\n",
      "betastar = getvalue(b) = [0.0, 0.0, 0.0, 0.0, 0.332204, 0.0, 0.15113, 0.150628, 0.113689, 0.0, 0.0, 0.0, 0.03443, 0.0, 0.0, 0.0, 0.0, 0.0, 0.0, 0.0, 0.0, 0.0, 0.0, 0.0, 0.0, 0.0, 0.0, 0.0]\n",
      "(rho, M, k, threshold, score) = (2.0, 2, 5, 0.5, 3.128225887091729)\n",
      "Academic license - for non-commercial use only\n",
      "betastar = getvalue(b) = [0.0, 0.0, 0.0, 0.0, 0.332187, 0.0, 0.151153, 0.150634, 0.113682, 0.0, 0.0, 0.0, 0.0344305, 0.0, 0.0, 0.0, 0.0, 0.0, 0.0, 0.0, 0.0, 0.0, 0.0, 0.0, 0.0, 0.0, 0.0, 0.0]\n",
      "(rho, M, k, threshold, score) = (2.0, 2, 5, 0.7, 3.128163575183239)\n",
      "Academic license - for non-commercial use only\n",
      "betastar = getvalue(b) = [0.0, 0.0, 0.0, 0.0, 0.0, 0.0, 0.152207, 0.151321, 0.113228, 0.0, 0.0361847, 0.0402554, 0.0379557, 0.0, 0.0, 0.0, 0.0, 0.0, 0.0, 0.0, 0.0, 0.0, 0.0, 0.0, 0.0, 0.0, 0.0, 0.0]\n",
      "(rho, M, k, threshold, score) = (2.0, 2, 7, 0.5, 3.221695654049039)\n",
      "Academic license - for non-commercial use only\n",
      "betastar = getvalue(b) = [0.0, 0.0, 0.0486179, 0.22194, 0.0, 0.0, 0.127356, 0.145121, 0.106902, 0.0, 0.0, 0.0349436, 0.0335049, 0.0, 0.0, 0.0, 0.0, 0.0, 0.0, 0.0, 0.0, 0.0, 0.0, 0.0, 0.0, 0.0, 0.0, 0.0]\n",
      "(rho, M, k, threshold, score) = (2.0, 2, 7, 0.7, 2.8059048137994247)\n",
      "Academic license - for non-commercial use only\n",
      "betastar = getvalue(b) = [0.0, 0.0, 0.0, 0.0, 0.0, 0.0, 0.152207, 0.151321, 0.113228, 0.0, 0.0361847, 0.0402554, 0.0379557, 0.0, 0.0, 0.0, 0.0, 0.0, 0.0, 0.0, 0.0, 0.0, 0.0, 0.0, 0.0, 0.0, 0.0, 0.0]\n",
      "(rho, M, k, threshold, score) = (2.0, 2, 10, 0.5, 3.221695654049039)\n",
      "Academic license - for non-commercial use only\n",
      "betastar = getvalue(b) = [0.0, 0.0, 0.0486179, 0.22194, 0.0, 0.0, 0.127356, 0.145121, 0.106902, 0.0, 0.0, 0.0349436, 0.0335049, 0.0, 0.0, 0.0, 0.0, 0.0, 0.0, 0.0, 0.0, 0.0, 0.0, 0.0, 0.0, 0.0, 0.0, 0.0]\n",
      "(rho, M, k, threshold, score) = (2.0, 2, 10, 0.7, 2.8059048137994247)\n",
      "(best_rho, best_score, best_M, best_k, best_threshold) = (0.1, 1.2358820220385252, 1, 5, 0.7)\n"
     ]
    },
    {
     "data": {
      "text/plain": [
       "(0.1, 1.2358820220385252, 1, 5, 0.7)"
      ]
     },
     "execution_count": 29,
     "metadata": {},
     "output_type": "execute_result"
    }
   ],
   "source": [
    "X = myData2[1:end-1]\n",
    "Y = myData2[end]\n",
    "srand(1)\n",
    "(train_X, train_Y), (test_X, test_Y) = splitobs(shuffleobs((X,Y)), at=.7)\n",
    "(tr_X, tr_y), (vl_X, vl_y) = splitobs(shuffleobs((train_X, train_Y)), at=0.67)\n",
    "\n",
    "\n",
    "tr_X = Matrix(tr_X)\n",
    "vl_X = Matrix(vl_X)\n",
    "train_X = Matrix(train_X)\n",
    "test_X = Matrix(test_X)\n",
    "\n",
    "best_rho = Inf\n",
    "best_score = Inf\n",
    "best_M = Inf\n",
    "best_k = Inf\n",
    "best_threshold = 1\n",
    "for rho in [0.1, 1, 2]\n",
    "    for M in [1, 2]\n",
    "        for k in [5,7,10]\n",
    "            for threshold in [.5,.7]\n",
    "                Bstar = rspt(tr_X,tr_y,rho,k,M,threshold)\n",
    "                score = evaluate(validmult(vl_X), vl_y, Bstar)\n",
    "                @show rho,M,k,threshold,score\n",
    "                if score < best_score\n",
    "                best_score = score\n",
    "                best_rho = rho\n",
    "                best_M = M\n",
    "                best_k = k\n",
    "                best_threshold = threshold\n",
    "                end\n",
    "            end\n",
    "        end\n",
    "    end\n",
    "end\n",
    "@show best_rho, best_score, best_M, best_k, best_threshold\n",
    "\n"
   ]
  },
  {
   "cell_type": "code",
   "execution_count": 13,
   "metadata": {
    "collapsed": true
   },
   "outputs": [],
   "source": [
    "#TEST ERROR FOR DATA1"
   ]
  },
  {
   "cell_type": "code",
   "execution_count": 30,
   "metadata": {},
   "outputs": [
    {
     "name": "stdout",
     "output_type": "stream",
     "text": [
      "Academic license - for non-commercial use only\n",
      "betastar = getvalue(b) = [0.938869, 0.620156, 0.0542556, 0.0, 0.0, 0.0, 0.0, 0.0, 0.0, 0.0, -0.00303672, 0.0, 0.0, 0.0, 0.0, 0.0, 0.0, 0.0, 0.0, 0.0, 0.404163, 0.0, 0.0, 0.0, 0.0, 0.0, 0.0, 0.0]\n"
     ]
    },
    {
     "data": {
      "text/plain": [
       "1.4480339448768456"
      ]
     },
     "execution_count": 30,
     "metadata": {},
     "output_type": "execute_result"
    }
   ],
   "source": [
    "Bstar = rspt(tr_X,tr_y,best_rho,best_k,best_M,best_threshold)\n",
    "score = evaluate(validmult(test_X), test_Y, Bstar)"
   ]
  },
  {
   "cell_type": "code",
   "execution_count": null,
   "metadata": {},
   "outputs": [],
   "source": [
    "\n"
   ]
  },
  {
   "cell_type": "markdown",
   "metadata": {},
   "source": [
    "Problem 1 Dataset 2) Please run your algorithm on the datasets data2.csv to find the best regression\n",
    "model you can. You will need to tune all of the hyperparameters in the algorithm to achieve the\n",
    "best results. (In each dataset the y is the last column and the X is all but the last column)."
   ]
  },
  {
   "cell_type": "code",
   "execution_count": 31,
   "metadata": {},
   "outputs": [
    {
     "name": "stdout",
     "output_type": "stream",
     "text": [
      "Academic license - for non-commercial use only\n",
      "betastar = getvalue(b) = [0.929237, 0.586957, 0.0591415, 0.0, 0.0191637, 0.0, 0.0, 0.0, 0.0, 0.0, 0.0, 0.0, 0.0, 0.0, 0.0, 0.0, 0.0, 0.0, 0.0, 0.0, 0.427719, 0.0, 0.0, 0.0, 0.0, 0.0, 0.0, 0.0]\n",
      "(rho, M, k, threshold, score) = (0.1, 1, 5, 0.5, 1.267231556939014)\n",
      "Academic license - for non-commercial use only\n",
      "betastar = getvalue(b) = [0.929237, 0.586957, 0.0591415, 0.0, 0.0191637, 0.0, 0.0, 0.0, 0.0, 0.0, 0.0, 0.0, 0.0, 0.0, 0.0, 0.0, 0.0, 0.0, 0.0, 0.0, 0.427719, 0.0, 0.0, 0.0, 0.0, 0.0, 0.0, 0.0]\n",
      "(rho, M, k, threshold, score) = (0.1, 1, 5, 0.7, 1.267231556939014)\n",
      "Academic license - for non-commercial use only\n",
      "betastar = getvalue(b) = [0.930766, 0.589055, 0.0591774, 0.0, 0.0205218, 0.0, 0.0, 0.0, 0.0, 0.0, -0.000449689, 0.0, -0.000741861, 0.0, 0.0, 0.0, 0.0, 0.0, 0.0, 0.0, 0.427469, 0.0, 0.0, 0.0, 0.0, 0.0, 0.0, 0.0]\n",
      "(rho, M, k, threshold, score) = (0.1, 1, 7, 0.5, 1.2708609155151813)\n",
      "Academic license - for non-commercial use only\n",
      "betastar = getvalue(b) = [0.930766, 0.589055, 0.0591774, 0.0, 0.0205218, 0.0, 0.0, 0.0, 0.0, 0.0, -0.000449689, 0.0, -0.000741861, 0.0, 0.0, 0.0, 0.0, 0.0, 0.0, 0.0, 0.427469, 0.0, 0.0, 0.0, 0.0, 0.0, 0.0, 0.0]\n",
      "(rho, M, k, threshold, score) = (0.1, 1, 7, 0.7, 1.2708609155151813)\n",
      "Academic license - for non-commercial use only\n",
      "betastar = getvalue(b) = [0.930766, 0.589055, 0.0591774, 0.0, 0.0205218, 0.0, 0.0, 0.0, 0.0, 0.0, -0.000449689, 0.0, -0.000741861, 0.0, 0.0, 0.0, 0.0, 0.0, 0.0, 0.0, 0.427469, 0.0, 0.0, 0.0, 0.0, 0.0, 0.0, 0.0]\n",
      "(rho, M, k, threshold, score) = (0.1, 1, 10, 0.5, 1.2708609155151813)\n",
      "Academic license - for non-commercial use only\n",
      "betastar = getvalue(b) = [0.930766, 0.589055, 0.0591774, 0.0, 0.0205218, 0.0, 0.0, 0.0, 0.0, 0.0, -0.000449689, 0.0, -0.000741861, 0.0, 0.0, 0.0, 0.0, 0.0, 0.0, 0.0, 0.427469, 0.0, 0.0, 0.0, 0.0, 0.0, 0.0, 0.0]\n",
      "(rho, M, k, threshold, score) = (0.1, 1, 10, 0.7, 1.2708609155151813)\n",
      "Academic license - for non-commercial use only\n",
      "betastar = getvalue(b) = [0.929179, 0.587577, 0.0591167, 0.0, 0.0186345, 0.0, 0.0, 0.0, 0.0, 0.0, 0.0, 0.0, 0.0, 0.0, 0.0, 0.0, 0.0, 0.0, 0.0, 0.0, 0.42769, 0.0, 0.0, 0.0, 0.0, 0.0, 0.0, 0.0]\n",
      "(rho, M, k, threshold, score) = (0.1, 2, 5, 0.5, 1.2672462828113216)\n",
      "Academic license - for non-commercial use only\n",
      "betastar = getvalue(b) = [0.929179, 0.587577, 0.0591167, 0.0, 0.0186345, 0.0, 0.0, 0.0, 0.0, 0.0, 0.0, 0.0, 0.0, 0.0, 0.0, 0.0, 0.0, 0.0, 0.0, 0.0, 0.42769, 0.0, 0.0, 0.0, 0.0, 0.0, 0.0, 0.0]\n",
      "(rho, M, k, threshold, score) = (0.1, 2, 5, 0.7, 1.2672462828113216)\n",
      "Academic license - for non-commercial use only\n",
      "betastar = getvalue(b) = [0.930522, 0.589241, 0.0591333, 0.0, 0.020108, 0.0, 0.0, 0.0, 0.0, 0.0, -0.000390468, 0.0, -0.000687505, 0.0, 0.0, 0.0, 0.0, 0.0, 0.0, 0.0, 0.427639, 0.0, 0.0, 0.0, 0.0, 0.0, 0.0, 0.0]\n",
      "(rho, M, k, threshold, score) = (0.1, 2, 7, 0.5, 1.2704132611269545)\n",
      "Academic license - for non-commercial use only\n",
      "betastar = getvalue(b) = [0.930522, 0.589241, 0.0591333, 0.0, 0.020108, 0.0, 0.0, 0.0, 0.0, 0.0, -0.000390468, 0.0, -0.000687505, 0.0, 0.0, 0.0, 0.0, 0.0, 0.0, 0.0, 0.427639, 0.0, 0.0, 0.0, 0.0, 0.0, 0.0, 0.0]\n",
      "(rho, M, k, threshold, score) = (0.1, 2, 7, 0.7, 1.2704132611269545)\n",
      "Academic license - for non-commercial use only\n",
      "betastar = getvalue(b) = [0.930522, 0.589241, 0.0591333, 0.0, 0.020108, 0.0, 0.0, 0.0, 0.0, 0.0, -0.000390468, 0.0, -0.000687505, 0.0, 0.0, 0.0, 0.0, 0.0, 0.0, 0.0, 0.427639, 0.0, 0.0, 0.0, 0.0, 0.0, 0.0, 0.0]\n",
      "(rho, M, k, threshold, score) = (0.1, 2, 10, 0.5, 1.2704132611269545)\n",
      "Academic license - for non-commercial use only\n",
      "betastar = getvalue(b) = [0.930522, 0.589241, 0.0591333, 0.0, 0.020108, 0.0, 0.0, 0.0, 0.0, 0.0, -0.000390468, 0.0, -0.000687505, 0.0, 0.0, 0.0, 0.0, 0.0, 0.0, 0.0, 0.427639, 0.0, 0.0, 0.0, 0.0, 0.0, 0.0, 0.0]\n",
      "(rho, M, k, threshold, score) = (0.1, 2, 10, 0.7, 1.2704132611269545)\n",
      "Academic license - for non-commercial use only\n",
      "betastar = getvalue(b) = [0.929443, 0.58598, 0.0611557, 0.0, 0.0, 0.0, 0.0, 0.0, 0.0, 0.0, 0.0, 0.00540157, 0.0, 0.0, 0.0, 0.0, 0.0, 0.0, 0.0, 0.0, 0.410918, 0.0, 0.0, 0.0, 0.0, 0.0, 0.0, 0.0]\n",
      "(rho, M, k, threshold, score) = (1.0, 1, 5, 0.5, 1.3014675729415444)\n",
      "Academic license - for non-commercial use only\n",
      "betastar = getvalue(b) = [0.929443, 0.58598, 0.0611557, 0.0, 0.0, 0.0, 0.0, 0.0, 0.0, 0.0, 0.0, 0.00540157, 0.0, 0.0, 0.0, 0.0, 0.0, 0.0, 0.0, 0.0, 0.410918, 0.0, 0.0, 0.0, 0.0, 0.0, 0.0, 0.0]\n",
      "(rho, M, k, threshold, score) = (1.0, 1, 5, 0.7, 1.3014675729415444)\n",
      "Academic license - for non-commercial use only\n",
      "betastar = getvalue(b) = [0.996289, 0.0, 0.062732, 0.0626788, 0.091455, 0.0587153, 0.0, 0.0, 0.0789829, 0.0, 0.0, 0.0, 0.0, 0.0, 0.0, 0.0, 0.0, 0.0, 0.0, 0.0, 0.407881, 0.0, 0.0, 0.0, 0.0, 0.0, 0.0, 0.0]\n",
      "(rho, M, k, threshold, score) = (1.0, 1, 7, 0.5, 1.403180196153233)\n",
      "Academic license - for non-commercial use only\n",
      "betastar = getvalue(b) = [0.996289, 0.0, 0.062732, 0.0626788, 0.091455, 0.0587153, 0.0, 0.0, 0.0789829, 0.0, 0.0, 0.0, 0.0, 0.0, 0.0, 0.0, 0.0, 0.0, 0.0, 0.0, 0.407881, 0.0, 0.0, 0.0, 0.0, 0.0, 0.0, 0.0]\n",
      "(rho, M, k, threshold, score) = (1.0, 1, 7, 0.7, 1.403180196153233)\n",
      "Academic license - for non-commercial use only\n",
      "betastar = getvalue(b) = [0.996289, 0.0, 0.062732, 0.0626788, 0.091455, 0.0587153, 0.0, 0.0, 0.0789829, 0.0, 0.0, 0.0, 0.0, 0.0, 0.0, 0.0, 0.0, 0.0, 0.0, 0.0, 0.407881, 0.0, 0.0, 0.0, 0.0, 0.0, 0.0, 0.0]\n",
      "(rho, M, k, threshold, score) = (1.0, 1, 10, 0.5, 1.403180196153233)\n",
      "Academic license - for non-commercial use only\n",
      "betastar = getvalue(b) = [0.996289, 0.0, 0.062732, 0.0626788, 0.091455, 0.0587153, 0.0, 0.0, 0.0789829, 0.0, 0.0, 0.0, 0.0, 0.0, 0.0, 0.0, 0.0, 0.0, 0.0, 0.0, 0.407881, 0.0, 0.0, 0.0, 0.0, 0.0, 0.0, 0.0]\n",
      "(rho, M, k, threshold, score) = (1.0, 1, 10, 0.7, 1.403180196153233)\n",
      "Academic license - for non-commercial use only\n",
      "betastar = getvalue(b) = [1.04595, 0.0, 0.0630258, 0.0, 0.150884, 0.0, 0.0, 0.0, 0.0819506, 0.0, 0.0, 0.0, 0.0, 0.0, 0.0, 0.0, 0.0, 0.0, 0.0, 0.0, 0.407229, 0.0, 0.0, 0.0, 0.0, 0.0, 0.0, 0.0]\n",
      "(rho, M, k, threshold, score) = (1.0, 2, 5, 0.5, 1.5379089961177141)\n",
      "Academic license - for non-commercial use only\n",
      "betastar = getvalue(b) = [1.04595, 0.0, 0.0630258, 0.0, 0.150884, 0.0, 0.0, 0.0, 0.0819506, 0.0, 0.0, 0.0, 0.0, 0.0, 0.0, 0.0, 0.0, 0.0, 0.0, 0.0, 0.407229, 0.0, 0.0, 0.0, 0.0, 0.0, 0.0, 0.0]\n",
      "(rho, M, k, threshold, score) = (1.0, 2, 5, 0.7, 1.5379089961177141)\n",
      "Academic license - for non-commercial use only\n",
      "betastar = getvalue(b) = [0.996214, 0.0, 0.0627422, 0.0626443, 0.0915125, 0.0587505, 0.0, 0.0, 0.078985, 0.0, 0.0, 0.0, 0.0, 0.0, 0.0, 0.0, 0.0, 0.0, 0.0, 0.0, 0.40789, 0.0, 0.0, 0.0, 0.0, 0.0, 0.0, 0.0]\n",
      "(rho, M, k, threshold, score) = (1.0, 2, 7, 0.5, 1.4031580256227754)\n",
      "Academic license - for non-commercial use only\n",
      "betastar = getvalue(b) = [0.996214, 0.0, 0.0627422, 0.0626443, 0.0915125, 0.0587505, 0.0, 0.0, 0.078985, 0.0, 0.0, 0.0, 0.0, 0.0, 0.0, 0.0, 0.0, 0.0, 0.0, 0.0, 0.40789, 0.0, 0.0, 0.0, 0.0, 0.0, 0.0, 0.0]\n",
      "(rho, M, k, threshold, score) = (1.0, 2, 7, 0.7, 1.4031580256227754)\n",
      "Academic license - for non-commercial use only\n",
      "betastar = getvalue(b) = [0.996214, 0.0, 0.0627422, 0.0626443, 0.0915125, 0.0587505, 0.0, 0.0, 0.078985, 0.0, 0.0, 0.0, 0.0, 0.0, 0.0, 0.0, 0.0, 0.0, 0.0, 0.0, 0.40789, 0.0, 0.0, 0.0, 0.0, 0.0, 0.0, 0.0]\n",
      "(rho, M, k, threshold, score) = (1.0, 2, 10, 0.5, 1.4031580256227754)\n",
      "Academic license - for non-commercial use only\n",
      "betastar = getvalue(b) = [0.996214, 0.0, 0.0627422, 0.0626443, 0.0915125, 0.0587505, 0.0, 0.0, 0.078985, 0.0, 0.0, 0.0, 0.0, 0.0, 0.0, 0.0, 0.0, 0.0, 0.0, 0.0, 0.40789, 0.0, 0.0, 0.0, 0.0, 0.0, 0.0, 0.0]\n",
      "(rho, M, k, threshold, score) = (1.0, 2, 10, 0.7, 1.4031580256227754)\n",
      "Academic license - for non-commercial use only\n",
      "betastar = getvalue(b) = [0.0, 0.0, 0.0, 0.0, 0.0, 0.0, 0.172186, 0.160689, 0.116396, 0.0, 0.0460948, 0.0513997, 0.0, 0.0, 0.0, 0.0, 0.0, 0.0, 0.0, 0.0, 0.0, 0.0, 0.0, 0.0, 0.0, 0.0, 0.0, 0.0]\n",
      "(rho, M, k, threshold, score) = (2.0, 1, 5, 0.5, 3.6268472316296387)\n",
      "Academic license - for non-commercial use only\n",
      "betastar = getvalue(b) = [0.0, 0.0, 0.0, 0.0, 0.0, 0.0, 0.172186, 0.160689, 0.116396, 0.0, 0.0460948, 0.0513997, 0.0, 0.0, 0.0, 0.0, 0.0, 0.0, 0.0, 0.0, 0.0, 0.0, 0.0, 0.0, 0.0, 0.0, 0.0, 0.0]\n",
      "(rho, M, k, threshold, score) = (2.0, 1, 5, 0.7, 3.6268472316296387)\n"
     ]
    },
    {
     "name": "stdout",
     "output_type": "stream",
     "text": [
      "Academic license - for non-commercial use only\n",
      "betastar = getvalue(b) = [0.0, 0.0, 0.0552015, 0.0, 0.0, 0.0, 0.150505, 0.149345, 0.10783, 0.0, 0.0367835, 0.0410529, 0.0323433, 0.0, 0.0, 0.0, 0.0, 0.0, 0.0, 0.0, 0.0, 0.0, 0.0, 0.0, 0.0, 0.0, 0.0, 0.0]\n",
      "(rho, M, k, threshold, score) = (2.0, 1, 7, 0.5, 3.1429505756931415)\n",
      "Academic license - for non-commercial use only\n",
      "betastar = getvalue(b) = [0.0, 0.0, 0.0552015, 0.0, 0.0, 0.0, 0.150505, 0.149345, 0.10783, 0.0, 0.0367835, 0.0410529, 0.0323433, 0.0, 0.0, 0.0, 0.0, 0.0, 0.0, 0.0, 0.0, 0.0, 0.0, 0.0, 0.0, 0.0, 0.0, 0.0]\n",
      "(rho, M, k, threshold, score) = (2.0, 1, 7, 0.7, 3.1429505756931415)\n",
      "Academic license - for non-commercial use only\n",
      "betastar = getvalue(b) = [0.0, 0.0, 0.0552015, 0.0, 0.0, 0.0, 0.150505, 0.149345, 0.10783, 0.0, 0.0367835, 0.0410529, 0.0323433, 0.0, 0.0, 0.0, 0.0, 0.0, 0.0, 0.0, 0.0, 0.0, 0.0, 0.0, 0.0, 0.0, 0.0, 0.0]\n",
      "(rho, M, k, threshold, score) = (2.0, 1, 10, 0.5, 3.1429505756931415)\n",
      "Academic license - for non-commercial use only\n",
      "betastar = getvalue(b) = [0.0, 0.0, 0.0552015, 0.0, 0.0, 0.0, 0.150505, 0.149345, 0.10783, 0.0, 0.0367835, 0.0410529, 0.0323433, 0.0, 0.0, 0.0, 0.0, 0.0, 0.0, 0.0, 0.0, 0.0, 0.0, 0.0, 0.0, 0.0, 0.0, 0.0]\n",
      "(rho, M, k, threshold, score) = (2.0, 1, 10, 0.7, 3.1429505756931415)\n",
      "Academic license - for non-commercial use only\n",
      "betastar = getvalue(b) = [0.0, 0.0, 0.0, 0.0, 0.0, 0.0, 0.172171, 0.160691, 0.116396, 0.0, 0.0461007, 0.0513991, 0.0, 0.0, 0.0, 0.0, 0.0, 0.0, 0.0, 0.0, 0.0, 0.0, 0.0, 0.0, 0.0, 0.0, 0.0, 0.0]\n",
      "(rho, M, k, threshold, score) = (2.0, 2, 5, 0.5, 3.626874471600952)\n",
      "Academic license - for non-commercial use only\n",
      "betastar = getvalue(b) = [0.0, 0.0, 0.0, 0.0, 0.0, 0.0, 0.172171, 0.160691, 0.116396, 0.0, 0.0461007, 0.0513991, 0.0, 0.0, 0.0, 0.0, 0.0, 0.0, 0.0, 0.0, 0.0, 0.0, 0.0, 0.0, 0.0, 0.0, 0.0, 0.0]\n",
      "(rho, M, k, threshold, score) = (2.0, 2, 5, 0.7, 3.626874471600952)\n",
      "Academic license - for non-commercial use only\n",
      "betastar = getvalue(b) = [0.0, 0.0, 0.0552033, 0.0, 0.0, 0.0, 0.150507, 0.149341, 0.107834, 0.0, 0.0367795, 0.0410451, 0.0323488, 0.0, 0.0, 0.0, 0.0, 0.0, 0.0, 0.0, 0.0, 0.0, 0.0, 0.0, 0.0, 0.0, 0.0, 0.0]\n",
      "(rho, M, k, threshold, score) = (2.0, 2, 7, 0.5, 3.1429627384332326)\n",
      "Academic license - for non-commercial use only\n",
      "betastar = getvalue(b) = [0.0, 0.0, 0.0552033, 0.0, 0.0, 0.0, 0.150507, 0.149341, 0.107834, 0.0, 0.0367795, 0.0410451, 0.0323488, 0.0, 0.0, 0.0, 0.0, 0.0, 0.0, 0.0, 0.0, 0.0, 0.0, 0.0, 0.0, 0.0, 0.0, 0.0]\n",
      "(rho, M, k, threshold, score) = (2.0, 2, 7, 0.7, 3.1429627384332326)\n",
      "Academic license - for non-commercial use only\n",
      "betastar = getvalue(b) = [0.0, 0.0, 0.0552033, 0.0, 0.0, 0.0, 0.150507, 0.149341, 0.107834, 0.0, 0.0367795, 0.0410451, 0.0323488, 0.0, 0.0, 0.0, 0.0, 0.0, 0.0, 0.0, 0.0, 0.0, 0.0, 0.0, 0.0, 0.0, 0.0, 0.0]\n",
      "(rho, M, k, threshold, score) = (2.0, 2, 10, 0.5, 3.1429627384332326)\n",
      "Academic license - for non-commercial use only\n",
      "betastar = getvalue(b) = [0.0, 0.0, 0.0552033, 0.0, 0.0, 0.0, 0.150507, 0.149341, 0.107834, 0.0, 0.0367795, 0.0410451, 0.0323488, 0.0, 0.0, 0.0, 0.0, 0.0, 0.0, 0.0, 0.0, 0.0, 0.0, 0.0, 0.0, 0.0, 0.0, 0.0]\n",
      "(rho, M, k, threshold, score) = (2.0, 2, 10, 0.7, 3.1429627384332326)\n",
      "(best_rho, best_score, best_M, best_k, best_threshold) = (0.1, 1.267231556939014, 1, 5, 0.5)\n"
     ]
    },
    {
     "data": {
      "text/plain": [
       "(0.1, 1.267231556939014, 1, 5, 0.5)"
      ]
     },
     "execution_count": 31,
     "metadata": {},
     "output_type": "execute_result"
    }
   ],
   "source": [
    "myData2\n",
    "\n",
    "X = myData2[1:end-1]\n",
    "Y = myData2[end]\n",
    "\n",
    "using MLDataUtils\n",
    "(train_X, train_Y), (test_X, test_Y) = splitobs(shuffleobs((X,Y)), at=.7)\n",
    "(tr_X, tr_y), (v2_X, v2_y) = splitobs(shuffleobs((train_X, train_Y)), at=0.67)\n",
    "\n",
    "\n",
    "tr_X = Matrix(tr_X)\n",
    "v2_X = Matrix(v2_X)\n",
    "test_X = Matrix(test_X)\n",
    "\n",
    "\n",
    "best_rho = Inf\n",
    "best_score = Inf\n",
    "best_M = Inf\n",
    "best_k = Inf\n",
    "best_threshold = 1\n",
    "for rho in [0.1, 1, 2]\n",
    "    for M in [1, 2]\n",
    "        for k in [5,7,10]\n",
    "            for threshold in [.5,.7]\n",
    "                Bstar = rspt(tr_X,tr_y,rho,k,M,threshold)\n",
    "                score = evaluate(validmult(v2_X), v2_y, Bstar)\n",
    "                @show rho,M,k,threshold,score\n",
    "                if score < best_score\n",
    "                best_score = score\n",
    "                best_rho = rho\n",
    "                best_M = M\n",
    "                best_k = k\n",
    "                best_threshold = threshold\n",
    "                end\n",
    "            end\n",
    "        end\n",
    "    end\n",
    "end\n",
    "@show best_rho, best_score, best_M, best_k, best_threshold\n",
    "\n"
   ]
  },
  {
   "cell_type": "code",
   "execution_count": 17,
   "metadata": {
    "collapsed": true
   },
   "outputs": [],
   "source": [
    "#test error for data2"
   ]
  },
  {
   "cell_type": "code",
   "execution_count": 32,
   "metadata": {},
   "outputs": [
    {
     "name": "stdout",
     "output_type": "stream",
     "text": [
      "Academic license - for non-commercial use only\n",
      "betastar = getvalue(b) = [0.929237, 0.586957, 0.0591415, 0.0, 0.0191637, 0.0, 0.0, 0.0, 0.0, 0.0, 0.0, 0.0, 0.0, 0.0, 0.0, 0.0, 0.0, 0.0, 0.0, 0.0, 0.427719, 0.0, 0.0, 0.0, 0.0, 0.0, 0.0, 0.0]\n"
     ]
    },
    {
     "data": {
      "text/plain": [
       "1.3229856966522116"
      ]
     },
     "execution_count": 32,
     "metadata": {},
     "output_type": "execute_result"
    }
   ],
   "source": [
    "Bstar = rspt(tr_X,tr_y,best_rho,best_k,best_M,best_threshold)\n",
    "score = evaluate(validmult(test_X), test_Y, Bstar)"
   ]
  },
  {
   "cell_type": "code",
   "execution_count": null,
   "metadata": {
    "collapsed": true
   },
   "outputs": [],
   "source": [
    "#Extra Credit : Implementation of bootstrapping method.= discussed in class.  \n",
    "\n",
    "# using JuMP, Gurobi\n",
    "\n",
    "\n",
    "# function ec(X,Y,rho,k,M,threshold)\n",
    "#     (l,p) = size(X)\n",
    "#     Xsquare = X.^2 \n",
    "#     Xlog= log.(X)\n",
    "#     Xsqrt = sqrt.(X)\n",
    "#     X = hcat(X,Xsquare,Xlog,Xsqrt)\n",
    "#     (n,m) = size(X)\n",
    "#     corrMat = cor(X)\n",
    "#     modelprob1 = Model(solver=GurobiSolver(OutputFlag=0))\n",
    "# #robustness with lasso penalty\n",
    "    \n",
    "# @variable(modelprob1,b[1:m])\n",
    "# @variable(modelprob1,t)\n",
    "# @variable(modelprob1,theta)\n",
    "# @variable(modelprob1,z[1:m],Bin)\n",
    "# @variable(modelprob1,s[1:m])\n",
    "# #robustness\n",
    "# @constraint(modelprob1, sum(s[j] for j=1:m)<=theta)\n",
    "# for j = 1:m\n",
    "#     @constraint(modelprob1, b[j] <= s[j])\n",
    "#     @constraint(modelprob1, b[j] >= -s[j])\n",
    "# end\n",
    "# @constraint(modelprob1, norm(Y-X*b)<=t)\n",
    "\n",
    "   \n",
    "# for j=1:m\n",
    "#         @constraint(modelprob1, b[j] <=  M * z[j])\n",
    "#         @constraint(modelprob1, b[j] >= -M * z[j])\n",
    "# end\n",
    "    \n",
    "# #sparsity \n",
    "#     @constraint(modelprob1, sum(z[j] for j=1:m)<=k)\n",
    "# #pairwise collinearity \n",
    "#     pairwisexy = pairwise(corrMat,threshold) \n",
    "#     (c,d)=size(pairwisexy)   \n",
    "# for i=1:c\n",
    "#     (d,e) = spitindices(pairwisexy,i)\n",
    "#     @constraint(modelprob1, z[e] + z[d]  <= 1)\n",
    "# end\n",
    "    \n",
    "#     #NL transformation\n",
    "#      for i=1:p\n",
    "#          @constraint(modelprob1, z[i] + z[i+p] + z[i+2*p] + z[i+3*p] <= 1)\n",
    "#      end\n",
    "        \n",
    "# @objective(modelprob1, Min, (t + rho*theta))\n",
    "\n",
    "# modelprob1\n",
    "# solve(modelprob1)\n",
    "# @show betastar = getvalue(b)\n",
    "# ###### constraints given condition number per prof. bertsimas\n",
    "# nonzerobeta=find(betastar)\n",
    "#     e,f = size(nonzerobeta)\n",
    "#     CNUM = cond(cor(X[:,find(betastar)]))\n",
    "# maxiter = 3 \n",
    "#     if CNUM >= 30 && iter < maxiter\n",
    "#         iter = iter + 1\n",
    "#         @constraint(modelprob1,sum(z[i] for i=1:e) <= k - 1)\n",
    "#         solve(modelprob1)    \n",
    "# end"
   ]
  }
 ],
 "metadata": {
  "kernelspec": {
   "display_name": "Julia 0.6.0",
   "language": "julia",
   "name": "julia-0.6"
  },
  "language_info": {
   "file_extension": ".jl",
   "mimetype": "application/julia",
   "name": "julia",
   "version": "0.6.0"
  }
 },
 "nbformat": 4,
 "nbformat_minor": 2
}
